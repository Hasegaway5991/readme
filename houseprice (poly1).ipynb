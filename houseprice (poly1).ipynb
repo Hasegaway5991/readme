{
 "cells": [
  {
   "cell_type": "code",
   "execution_count": 109,
   "metadata": {
    "collapsed": true
   },
   "outputs": [],
   "source": [
    "#必要なパッケージのインストール\n",
    "import numpy as np\n",
    "import pandas as pd\n",
    "import matplotlib.pyplot as plt\n",
    "% matplotlib inline"
   ]
  },
  {
   "cell_type": "code",
   "execution_count": 110,
   "metadata": {
    "collapsed": false
   },
   "outputs": [],
   "source": [
    "df=pd.read_csv(\"train.csv\")"
   ]
  },
  {
   "cell_type": "code",
   "execution_count": 111,
   "metadata": {
    "collapsed": false
   },
   "outputs": [
    {
     "data": {
      "text/plain": [
       "SalePrice                1.000000\n",
       "OverallQual              0.790982\n",
       "GrLivArea                0.708624\n",
       "GarageCars               0.640409\n",
       "GarageArea               0.623431\n",
       "TotalBsmtSF              0.613581\n",
       "1stFlrSF                 0.605852\n",
       "FullBath                 0.560664\n",
       "BsmtQual_Ex              0.553105\n",
       "TotRmsAbvGrd             0.533723\n",
       "YearBuilt                0.522897\n",
       "YearRemodAdd             0.507101\n",
       "KitchenQual_Ex           0.504094\n",
       "Foundation_PConc         0.497734\n",
       "MasVnrArea               0.472614\n",
       "Fireplaces               0.466929\n",
       "ExterQual_Gd             0.452466\n",
       "ExterQual_Ex             0.451164\n",
       "BsmtFinType1_GLQ         0.434597\n",
       "HeatingQC_Ex             0.434543\n",
       "GarageFinish_Fin         0.419678\n",
       "Neighborhood_NridgHt     0.402149\n",
       "GarageYrBlt              0.397778\n",
       "BsmtFinSF1               0.386420\n",
       "SaleType_New             0.357509\n",
       "SaleCondition_Partial    0.352060\n",
       "GarageType_Attchd        0.335961\n",
       "MasVnrType_Stone         0.330476\n",
       "Neighborhood_NoRidge     0.330424\n",
       "LotFrontage              0.329220\n",
       "                           ...   \n",
       "ExterCond_Fa            -0.137914\n",
       "Neighborhood_BrkSide    -0.143648\n",
       "SaleCondition_Normal    -0.153990\n",
       "KitchenQual_Fa          -0.157199\n",
       "Exterior1st_Wd Sdng     -0.158619\n",
       "Exterior2nd_Wd Sdng     -0.161800\n",
       "Exterior2nd_MetalSd     -0.162389\n",
       "HouseStyle_1.5Fin       -0.163466\n",
       "Neighborhood_IDOTRR     -0.164056\n",
       "Exterior1st_MetalSd     -0.167068\n",
       "Neighborhood_Edwards    -0.179949\n",
       "Neighborhood_NAmes      -0.188513\n",
       "Neighborhood_OldTown    -0.192189\n",
       "Electrical_FuseA        -0.193978\n",
       "Foundation_BrkTil       -0.204117\n",
       "PavedDrive_N            -0.212630\n",
       "RoofStyle_Gable         -0.224744\n",
       "SaleType_WD             -0.242598\n",
       "CentralAir_N            -0.251328\n",
       "BsmtExposure_No         -0.263600\n",
       "LotShape_Reg            -0.267672\n",
       "MSZoning_RM             -0.288065\n",
       "HeatingQC_TA            -0.312677\n",
       "Foundation_CBlock       -0.343263\n",
       "GarageType_Detchd       -0.354141\n",
       "MasVnrType_None         -0.374468\n",
       "GarageFinish_Unf        -0.410608\n",
       "BsmtQual_TA             -0.452394\n",
       "KitchenQual_TA          -0.519298\n",
       "ExterQual_TA            -0.589044\n",
       "Name: SalePrice, dtype: float64"
      ]
     },
     "execution_count": 111,
     "metadata": {},
     "output_type": "execute_result"
    }
   ],
   "source": [
    "corr=df.corr()[\"SalePrice\"]\n",
    "corr[np.argsort(corr, axis=0)[::-1]]#Salepriceとの相関が高いものを選定"
   ]
  },
  {
   "cell_type": "code",
   "execution_count": 129,
   "metadata": {
    "collapsed": false
   },
   "outputs": [],
   "source": [
    "selected=df.loc[:,[\"OverallQual\"]].values\n",
    "houseprice1=df.loc[:,[\"SalePrice\"]].values"
   ]
  },
  {
   "cell_type": "code",
   "execution_count": 130,
   "metadata": {
    "collapsed": false
   },
   "outputs": [],
   "source": [
    "# 2次関数の変数変換\n",
    "from sklearn.preprocessing import PolynomialFeatures\n",
    "quad = PolynomialFeatures(degree=2)    # 2次の多項式規定を生成\n",
    "selected = quad.fit_transform(selected) # 生成した基底関数で変数変換を実行\n",
    "cubic = PolynomialFeatures(degree=3)     # 3次の多項式規定を生成\n",
    "selected3 = cubic.fit_transform(selected) # 生成した基底関数で変数変換を実行"
   ]
  },
  {
   "cell_type": "code",
   "execution_count": 131,
   "metadata": {
    "collapsed": false
   },
   "outputs": [
    {
     "name": "stderr",
     "output_type": "stream",
     "text": [
      "C:\\Users\\yasuh\\Anaconda3\\lib\\site-packages\\sklearn\\utils\\validation.py:429: DataConversionWarning: Data with input dtype int64 was converted to float64 by StandardScaler.\n",
      "  warnings.warn(msg, _DataConversionWarning)\n"
     ]
    }
   ],
   "source": [
    "from sklearn.preprocessing import StandardScaler#標準化\n",
    "ss = StandardScaler()\n",
    "selected = ss.fit_transform(selected) # すべての説明変数を変換\n",
    "houseprice1 = ss.fit_transform(houseprice1)\n",
    "selected3= ss.fit_transform(selected3) # すべての説明変数を変換\n",
    "houseprice3 = ss.fit_transform(houseprice1)"
   ]
  },
  {
   "cell_type": "code",
   "execution_count": 143,
   "metadata": {
    "collapsed": false
   },
   "outputs": [],
   "source": [
    "from sklearn.model_selection import train_test_split#ホールドアウト法\n",
    "X_train, X_test, y_train, y_test = train_test_split(selected, houseprice1, test_size = 0.3, random_state = 0)\n",
    "X_train3, X_test3, y_train3, y_test3 = train_test_split(selected3, houseprice3, test_size = 0.3, random_state = 0)\n",
    "from sklearn.linear_model import LinearRegression#回帰分析用\n",
    "lr=LinearRegression()\n",
    "lr2=LinearRegression()"
   ]
  },
  {
   "cell_type": "code",
   "execution_count": 144,
   "metadata": {
    "collapsed": false
   },
   "outputs": [
    {
     "data": {
      "text/plain": [
       "LinearRegression(copy_X=True, fit_intercept=True, n_jobs=1, normalize=False)"
      ]
     },
     "execution_count": 144,
     "metadata": {},
     "output_type": "execute_result"
    }
   ],
   "source": [
    "lr.fit(X_train,y_train)#機械学習をさせる"
   ]
  },
  {
   "cell_type": "code",
   "execution_count": 145,
   "metadata": {
    "collapsed": false
   },
   "outputs": [
    {
     "data": {
      "text/plain": [
       "LinearRegression(copy_X=True, fit_intercept=True, n_jobs=1, normalize=False)"
      ]
     },
     "execution_count": 145,
     "metadata": {},
     "output_type": "execute_result"
    }
   ],
   "source": [
    "lr2.fit(X_train3,y_train3)#機械学習をさせる"
   ]
  },
  {
   "cell_type": "code",
   "execution_count": 146,
   "metadata": {
    "collapsed": false
   },
   "outputs": [],
   "source": [
    "def adjusted(score, n_sample, n_features):#自由度決定済み決定係数\n",
    "    adjusted_score = 1 - (1 - score) * ((n_sample - 1) / (n_sample - n_features - 1))\n",
    "    return adjusted_score"
   ]
  },
  {
   "cell_type": "code",
   "execution_count": 147,
   "metadata": {
    "collapsed": false,
    "scrolled": true
   },
   "outputs": [
    {
     "name": "stdout",
     "output_type": "stream",
     "text": [
      "adjusted R^2\n",
      "train: 0.670583\n",
      "test : 0.690861\n"
     ]
    }
   ],
   "source": [
    "# 自由度調整済み決定係数を出力\n",
    "print('adjusted R^2')\n",
    "print('train: %3f' % adjusted(lr.score(X_train, y_train), len(y_train), 2))\n",
    "print('test : %3f' % adjusted(lr.score(X_test, y_test), len(y_test), 2))"
   ]
  },
  {
   "cell_type": "code",
   "execution_count": 149,
   "metadata": {
    "collapsed": false
   },
   "outputs": [
    {
     "name": "stdout",
     "output_type": "stream",
     "text": [
      "adjusted R^2\n",
      "train: 0.678176\n",
      "test : 0.689807\n"
     ]
    }
   ],
   "source": [
    "# 自由度調整済み決定係数を出力\n",
    "print('adjusted R^2')\n",
    "print('train: %3f' % adjusted(lr2.score(X_train3, y_train3), len(y_train3), 3))\n",
    "print('test : %3f' % adjusted(lr2.score(X_test3, y_test3), len(y_test3), 3))"
   ]
  },
  {
   "cell_type": "code",
   "execution_count": null,
   "metadata": {
    "collapsed": true
   },
   "outputs": [],
   "source": []
  }
 ],
 "metadata": {
  "kernelspec": {
   "display_name": "Python 3",
   "language": "python",
   "name": "python3"
  },
  "language_info": {
   "codemirror_mode": {
    "name": "ipython",
    "version": 3
   },
   "file_extension": ".py",
   "mimetype": "text/x-python",
   "name": "python",
   "nbconvert_exporter": "python",
   "pygments_lexer": "ipython3",
   "version": "3.6.0"
  }
 },
 "nbformat": 4,
 "nbformat_minor": 2
}
