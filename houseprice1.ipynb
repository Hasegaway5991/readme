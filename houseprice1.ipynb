{
 "cells": [
  {
   "cell_type": "code",
   "execution_count": null,
   "metadata": {
    "collapsed": false
   },
   "outputs": [],
   "source": []
  },
  {
   "cell_type": "code",
   "execution_count": null,
   "metadata": {
    "collapsed": false
   },
   "outputs": [],
   "source": [
    "df=pd.read_csv(\"train.csv\")"
   ]
  },
  {
   "cell_type": "code",
   "execution_count": null,
   "metadata": {
    "collapsed": false
   },
   "outputs": [],
   "source": [
    "# ヒートマップの表示\n",
    "import seaborn as sns#heatmap用\n",
    "plt.figure(figsize=(12, 9))\n",
    "sns.heatmap(df.corr(), annot=True, square=True, fmt='.2f')\n",
    "plt.show()"
   ]
  },
  {
   "cell_type": "code",
   "execution_count": null,
   "metadata": {
    "collapsed": true
   },
   "outputs": [],
   "source": [
    "print(\"df\")"
   ]
  },
  {
   "cell_type": "code",
   "execution_count": null,
   "metadata": {
    "collapsed": true
   },
   "outputs": [],
   "source": [
    "from sklearn.linear_model import LinearRegression#回帰分析用\n",
    "\n",
    "from sklearn.preprocessing import StandardScaler#標準化\n",
    "from sklearn.preprocessing import PolynomialFeatures#多項式による分析に必要\n"
   ]
  },
  {
   "cell_type": "code",
   "execution_count": null,
   "metadata": {
    "collapsed": true
   },
   "outputs": [],
   "source": []
  },
  {
   "cell_type": "code",
   "execution_count": null,
   "metadata": {
    "collapsed": true
   },
   "outputs": [],
   "source": []
  },
  {
   "cell_type": "code",
   "execution_count": null,
   "metadata": {
    "collapsed": true
   },
   "outputs": [],
   "source": []
  },
  {
   "cell_type": "code",
   "execution_count": null,
   "metadata": {
    "collapsed": true
   },
   "outputs": [],
   "source": []
  },
  {
   "cell_type": "code",
   "execution_count": null,
   "metadata": {
    "collapsed": true
   },
   "outputs": [],
   "source": []
  },
  {
   "cell_type": "code",
   "execution_count": null,
   "metadata": {
    "collapsed": false
   },
   "outputs": [],
   "source": [
    "ss = StandardScaler()\n",
    "X_std = ss.fit_transform(boston.data) # すべての説明変数を変換\n",
    "y_std = ss.fit_transform(y)"
   ]
  },
  {
   "cell_type": "code",
   "execution_count": null,
   "metadata": {
    "collapsed": false
   },
   "outputs": [],
   "source": [
    "from sklearn.linear_model import Ridge                        # Ridge回帰のクラスを読み込み\n",
    "model_ridge = Ridge(alpha=1000)                               # Ridge回帰のインスタンスを生成\n",
    "model_ridge.fit(X_pol, y)       "
   ]
  },
  {
   "cell_type": "code",
   "execution_count": 5,
   "metadata": {
    "collapsed": true
   },
   "outputs": [],
   "source": [
    "def adjusted(score, n_sample, n_features):\n",
    "    adjusted_score = 1 - (1 - score) * ((n_sample - 1) / (n_sample - n_features - 1))\n",
    "    return adjusted_score"
   ]
  },
  {
   "cell_type": "code",
   "execution_count": null,
   "metadata": {
    "collapsed": true
   },
   "outputs": [],
   "source": [
    "# 自由度調整済み決定係数をtrainとtestに分けて出力\n",
    "print('adjusted R^2')\n",
    "print('')\n",
    "\n",
    "# 線形回帰\n",
    "print('model_linear')\n",
    "print('train: %.3f' % adjusted(model_lin.score(lstat_train, y_train), len(y_train), 1))\n",
    "print('test : %.3f' % adjusted(model_lin.score(lstat_test, y_test), len(y_test), 1))\n",
    "print('')\n",
    "\n",
    "# 2次関数\n",
    "print('model_quad')\n",
    "print('train: %.3f' % adjusted(model_quad.score(lstat_quad_train, y_train), len(y_train), 2))\n",
    "print('test : %.3f' % adjusted(model_quad.score(lstat_quad_test, y_test), len(y_test), 2))\n",
    "print('')\n",
    "\n",
    "# 3次関数\n",
    "print('model_cubic')\n",
    "print('train: %.3f' % adjusted(model_cubic.score(lstat_cubic_train, y_train), len(y_train), 3))\n",
    "print('test : %.3f' %"
   ]
  }
 ],
 "metadata": {
  "kernelspec": {
   "display_name": "Python 3",
   "language": "python",
   "name": "python3"
  },
  "language_info": {
   "codemirror_mode": {
    "name": "ipython",
    "version": 3
   },
   "file_extension": ".py",
   "mimetype": "text/x-python",
   "name": "python",
   "nbconvert_exporter": "python",
   "pygments_lexer": "ipython3",
   "version": "3.6.0"
  }
 },
 "nbformat": 4,
 "nbformat_minor": 2
}
